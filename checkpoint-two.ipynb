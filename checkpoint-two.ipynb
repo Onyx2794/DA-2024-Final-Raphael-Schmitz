{
 "cells": [
  {
   "attachments": {},
   "cell_type": "markdown",
   "metadata": {
    "azdata_cell_guid": "151601c9-ca7a-412e-af80-c62a87e0837e"
   },
   "source": [
    "# Checkpoint Two: Exploratory Data Analysis\n",
    "\n",
    "Now that your chosen dataset is approved, it is time to start working on your analysis. Use this notebook to perform your EDA and make notes where directed to as you work.\n",
    "\n",
    "## Getting Started\n",
    "\n",
    "Since we have not provided your dataset for you, you will need to load the necessary files in this repository. Make sure to include a link back to the original dataset here as well.\n",
    "\n",
    "My dataset:\n",
    "\n",
    "Your first task in EDA is to import necessary libraries and create a dataframe(s). Make note in the form of code comments of what your thought process is as you work on this setup task."
   ]
  },
  {
   "cell_type": "code",
   "execution_count": 2,
   "metadata": {
    "azdata_cell_guid": "7b503e37-6df5-4433-acfb-678b1346db14"
   },
   "outputs": [],
   "source": [
    "import pandas as pd\n",
    "import numpy as np\n",
    "import seaborn as sb\n",
    "import matplotlib.pyplot as plt\n",
    "Mar22 = pd.read_csv(\"./202203.csv\", encoding='latin-1')\n",
    "Apr22 = pd.read_csv(\"./202204.csv\", encoding='latin-1')\n",
    "Jun22 = pd.read_csv(\"./202206.csv\", encoding='latin-1')\n",
    "Jul22 = pd.read_csv(\"./202207.csv\", encoding='latin-1')\n",
    "Aug22 = pd.read_csv(\"./202208.csv\", encoding='latin-1')\n",
    "Sep22 = pd.read_csv(\"./202209.csv\", encoding='latin-1')\n",
    "Oct22 = pd.read_csv(\"./202210.csv\", encoding='latin-1')\n",
    "Jan23 = pd.read_csv(\"./202301.csv\", encoding='latin-1')\n",
    "Feb23 = pd.read_csv(\"./202302.csv\", encoding='latin-1')\n",
    "Mar23 = pd.read_csv(\"./202303.csv\", encoding='latin-1')\n",
    "Apr23 = pd.read_csv(\"./202304.csv\", encoding='latin-1')\n",
    "May23 = pd.read_csv(\"./202305.csv\", encoding='latin-1')\n",
    "Jun23 = pd.read_csv(\"./202306.csv\", encoding='latin-1')\n",
    "Jul23 = pd.read_csv(\"./202307.csv\", encoding='latin-1')\n",
    "Aug23 = pd.read_csv(\"./202308.csv\", encoding='latin-1')\n",
    "Sep23 = pd.read_csv(\"./202309.csv\", encoding='latin-1')\n"
   ]
  },
  {
   "attachments": {},
   "cell_type": "markdown",
   "metadata": {
    "azdata_cell_guid": "129ce836-524b-4ea8-b394-a959f9308d6a"
   },
   "source": [
    "## Get to Know the Numbers\n",
    "\n",
    "Now that you have everything setup, put any code that you use to get to know the dataframe and its rows and columns better in the cell below. You can use whatever techniques you like, except for visualizations. You will put those in a separate section.\n",
    "\n",
    "When working on your code, make sure to leave comments so that your mentors can understand your thought process."
   ]
  },
  {
   "cell_type": "code",
   "execution_count": 6,
   "metadata": {
    "azdata_cell_guid": "0ca2d318-f6e8-43ef-a33e-5304d24d928d",
    "tags": []
   },
   "outputs": [],
   "source": [
    "# Here first I will merge all of the data sets into one dataframe, so that EDA and cleanup is much easier to run, and only needs to be run once. Since my csvs contain the same columns here I can just use the concat function.\n",
    "\n",
    "datasets = [Mar22, Apr22, Jun22, Jul22, Aug22, Sep22, Oct22, Jan23, Feb23, Mar23, Apr23, May23, Jun23, Jul23, Aug23, Sep23]\n",
    "df = pd.concat(datasets)"
   ]
  },
  {
   "cell_type": "code",
   "execution_count": 7,
   "metadata": {},
   "outputs": [
    {
     "name": "stdout",
     "output_type": "stream",
     "text": [
      "Index(['Unnamed: 0', 'id', 'kw_location', 'time_location', 'created_date',\n",
      "       'period', '1', '2', '3', '4', '5', '6', '7', '8', '9', '10', '11', '12',\n",
      "       '13', '14', '15', '16', '17', '18', '19', '20', 'year', 'month'],\n",
      "      dtype='object')\n"
     ]
    },
    {
     "data": {
      "text/plain": [
       "np.int64(0)"
      ]
     },
     "execution_count": 7,
     "metadata": {},
     "output_type": "execute_result"
    }
   ],
   "source": [
    "# Check to make sure it worked out\n",
    "print(df.columns)\n",
    "\n",
    "# No duplicated rows\n",
    "df.duplicated().sum()"
   ]
  },
  {
   "cell_type": "code",
   "execution_count": null,
   "metadata": {},
   "outputs": [
    {
     "name": "stderr",
     "output_type": "stream",
     "text": [
      "C:\\Users\\Vicar\\AppData\\Local\\Temp\\ipykernel_30048\\1600492914.py:13: UserWarning: Boolean Series key will be reindexed to match DataFrame index.\n",
      "  col1janUS = (df[df[df['month'] == 1]['kw_location'] == 'US']['1'])\n"
     ]
    },
    {
     "data": {
      "text/plain": [
       "1\n",
       "Lakers                13\n",
       "Powerball             11\n",
       "Real Madrid           11\n",
       "NFL                    6\n",
       "NHL                    6\n",
       "                      ..\n",
       "Waiver wire Week 4     1\n",
       "IRS                    1\n",
       "Michael Gambon         1\n",
       "Braves vs Dodgers      1\n",
       "Allen, Texas           1\n",
       "Name: count, Length: 623, dtype: int64"
      ]
     },
     "execution_count": 8,
     "metadata": {},
     "output_type": "execute_result"
    }
   ],
   "source": [
    "# Now I can begin analyzing the data based on a variety of relations, in order to determine its flexibility for use in analysis\n",
    "\n",
    "#Top 1 keywords globally all time, descending.\n",
    "col1cnt = df['1'].value_counts()\n",
    "col1cnt[df['1']].sort_values(ascending=False)\n",
    "\n",
    "#Top 1 keywords globally in January 2023, descending.\n",
    "col1jan = (df[df['month'] == 1]['1'])\n",
    "col1cnt = col1jan.value_counts()\n",
    "col1cnt.sort_values(ascending=False)\n",
    "\n",
    "#Top 1 keywords in US, January 2023, descending.\n",
    "col1janUS = (df[df[df['month'] == 1]['kw_location'] == 'US']['1'])\n",
    "col1cnt = col1janUS.value_counts()\n",
    "col1cnt.sort_values(ascending=False)"
   ]
  },
  {
   "cell_type": "code",
   "execution_count": null,
   "metadata": {},
   "outputs": [
    {
     "name": "stdout",
     "output_type": "stream",
     "text": [
      "['US' 'UK' 'DE' 'FR' 'NL' 'IT' 'AUS']\n",
      "['UK']\n",
      "['Late Night' 'Morning' 'Evening']\n"
     ]
    }
   ],
   "source": [
    "# Now I can get to determining which data points are more highly represented than others, as well as analyzing what exact values I am working with.\n",
    "\n",
    "#Key Word Locations\n",
    "print(df['kw_location'].unique())\n",
    "#This data communicates where the data is being sampled from / where it applies. This will be very important for me regarding some business questions I had in mind.\n",
    "\n",
    "#Date Time Locations\n",
    "print(df['time_location'].unique())\n",
    "#interesting that this column is even included, since its completely consistent across. Maybe just to communicate to the analyst (me) that this dataset was recorded on the UK's timezone. Regardless I will remove it for lack of use in the data cleaning portion.\n",
    "\n",
    "#Periods\n",
    "print(df['period'].unique())\n",
    "#This seems to communicate what time of day the value was recorded and applicable. SEO changes daily so this inclusion makes sense.\n",
    "\n",
    "#The remaining data is supplementary or self explanatory, such as year and month. \n",
    "\n"
   ]
  },
  {
   "cell_type": "code",
   "execution_count": null,
   "metadata": {},
   "outputs": [
    {
     "name": "stdout",
     "output_type": "stream",
     "text": [
      "735\n",
      "665\n",
      "238\n"
     ]
    }
   ],
   "source": [
    "#I am going to analyze here if any particular months carry more data than another, by sampling 3 at random.\n",
    "\n",
    "print(df[df['month'] == 3]['id'].count()) #March\n",
    "print(df[df['month'] == 8]['id'].count()) #August\n",
    "print(df[df['month'] == 5]['id'].count()) #May\n",
    "\n",
    "#My data count is obviously far higher regarding months such as March vs months like May. I will take this into account when demonstrating the data in visualizations. I will make note of this in the Tableau as well."
   ]
  },
  {
   "attachments": {},
   "cell_type": "markdown",
   "metadata": {
    "azdata_cell_guid": "d45060f3-97bc-484a-9ef4-66145bbe9427"
   },
   "source": [
    "## Visualize\n",
    "\n",
    "Create any visualizations for your EDA here. Make note in the form of code comments of what your thought process is for your visualizations."
   ]
  },
  {
   "cell_type": "code",
   "execution_count": 24,
   "metadata": {
    "azdata_cell_guid": "f4565b03-759a-47a8-b58f-01b32a0b4b67"
   },
   "outputs": [
    {
     "data": {
      "text/plain": [
       "Text(0.5, 1.0, 'Sampled data count per Month sampled')"
      ]
     },
     "execution_count": 24,
     "metadata": {},
     "output_type": "execute_result"
    },
    {
     "data": {
      "image/png": "[encoded data removed]",
      "text/plain": [
       "<Figure size 640x480 with 1 Axes>"
      ]
     },
     "metadata": {},
     "output_type": "display_data"
    }
   ],
   "source": [
    "#Here ill put the month data discrepancy into visual data\n",
    "keys = ['March', 'May', 'August']\n",
    "values = [df[df['month'] == 3]['id'].count(), df[df['month'] == 5]['id'].count(), df[df['month'] == 8]['id'].count()]\n",
    "\n",
    "plt.bar(keys, values)\n",
    "plt.title(\"Sampled data count per Month sampled\")"
   ]
  },
  {
   "cell_type": "code",
   "execution_count": null,
   "metadata": {
    "azdata_cell_guid": "cd64bab1-db4c-4295-820d-c6464b653a3e"
   },
   "outputs": [
    {
     "data": {
      "text/plain": [
       "Text(0.5, 1.0, 'Sampled data per Location sampled')"
      ]
     },
     "execution_count": 36,
     "metadata": {},
     "output_type": "execute_result"
    },
    {
     "data": {
      "image/png": "[encoded data removed]",
      "text/plain": [
       "<Figure size 640x480 with 1 Axes>"
      ]
     },
     "metadata": {},
     "output_type": "display_data"
    }
   ],
   "source": [
    "#Here I will sample the same data but pertaining to the location.\n",
    "keys = df['kw_location'].unique()\n",
    "values = []\n",
    "KwLocations = df['kw_location'].unique()\n",
    "for i in KwLocations:\n",
    "    value = df[df['kw_location'] == i]['id'].count()\n",
    "    values.append(value)\n",
    "\n",
    "plt.bar(keys, values)\n",
    "plt.title(\"Sampled data per Location sampled\")\n",
    "\n",
    "#Surprisingly these columns are all perfectly exact. This means I can give equal value confidence to each."
   ]
  },
  {
   "cell_type": "markdown",
   "metadata": {
    "azdata_cell_guid": "d4931c0c-2c09-4ee1-95d4-73dd08c2f0a6"
   },
   "source": [
    "## Summarize Your Results\n",
    "\n",
    "With your EDA complete, answer the following questions.\n",
    "\n",
    "1. Was there anything surprising about your dataset? \n",
    "    I did not expect the difference in data volume between months to be so drastic.\n",
    "\n",
    "2. Do you have any concerns about your dataset? \n",
    "    This same surprise is my only cause for concern. It shouldn't pose an issue as there is still enough data for the lesser sampled months, however consistency with data is always a concern, as some analyses may prove more accurate than others as a result.\n",
    "\n",
    "3. Is there anything you want to make note of for the next phase of your analysis, which is cleaning data? \n",
    "    Remove the time location column, but include the fact the data is sampled in UK time to the final report. Also be sure to note difference in data confidence to final report.\n",
    "\n"
   ]
  }
 ],
 "metadata": {
  "kernelspec": {
   "display_name": ".venv",
   "language": "python",
   "name": "python3"
  },
  "language_info": {
   "codemirror_mode": {
    "name": "ipython",
    "version": 3
   },
   "file_extension": ".py",
   "mimetype": "text/x-python",
   "name": "python",
   "nbconvert_exporter": "python",
   "pygments_lexer": "ipython3",
   "version": "3.11.9"
  }
 },
 "nbformat": 4,
 "nbformat_minor": 2
}
