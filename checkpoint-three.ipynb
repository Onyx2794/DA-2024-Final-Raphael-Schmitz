{
 "cells": [
  {
   "attachments": {},
   "cell_type": "markdown",
   "metadata": {
    "azdata_cell_guid": "26037d32-2047-4157-81ef-595916bd66a0"
   },
   "source": [
    "# Checkpoint Three: Cleaning Data\n",
    "\n",
    "Now you are ready to clean your data. Before starting coding, provide the link to your dataset below.\n",
    "\n",
    "My dataset:\n",
    "\n",
    "Import the necessary libraries and create your dataframe(s)."
   ]
  },
  {
   "cell_type": "code",
   "execution_count": 2,
   "metadata": {
    "azdata_cell_guid": "e8adef8e-d0f2-4640-a179-5997f11e82ca"
   },
   "outputs": [],
   "source": [
    "import pandas as pd\n",
    "import numpy as np\n",
    "import seaborn as sb\n",
    "import matplotlib.pyplot as plt\n",
    "Mar22 = pd.read_csv(\"./202203.csv\", encoding='latin-1')\n",
    "Apr22 = pd.read_csv(\"./202204.csv\", encoding='latin-1')\n",
    "Jun22 = pd.read_csv(\"./202206.csv\", encoding='latin-1')\n",
    "Jul22 = pd.read_csv(\"./202207.csv\", encoding='latin-1')\n",
    "Aug22 = pd.read_csv(\"./202208.csv\", encoding='latin-1')\n",
    "Sep22 = pd.read_csv(\"./202209.csv\", encoding='latin-1')\n",
    "Oct22 = pd.read_csv(\"./202210.csv\", encoding='latin-1')\n",
    "Jan23 = pd.read_csv(\"./202301.csv\", encoding='latin-1')\n",
    "Feb23 = pd.read_csv(\"./202302.csv\", encoding='latin-1')\n",
    "Mar23 = pd.read_csv(\"./202303.csv\", encoding='latin-1')\n",
    "Apr23 = pd.read_csv(\"./202304.csv\", encoding='latin-1')\n",
    "May23 = pd.read_csv(\"./202305.csv\", encoding='latin-1')\n",
    "Jun23 = pd.read_csv(\"./202306.csv\", encoding='latin-1')\n",
    "Jul23 = pd.read_csv(\"./202307.csv\", encoding='latin-1')\n",
    "Aug23 = pd.read_csv(\"./202308.csv\", encoding='latin-1')\n",
    "Sep23 = pd.read_csv(\"./202309.csv\", encoding='latin-1')\n",
    "\n",
    "datasets = [Mar22, Apr22, Jun22, Jul22, Aug22, Sep22, Oct22, Jan23, Feb23, Mar23, Apr23, May23, Jun23, Jul23, Aug23, Sep23]\n",
    "df = pd.concat(datasets)"
   ]
  },
  {
   "cell_type": "markdown",
   "metadata": {
    "azdata_cell_guid": "e172475a-c4ee-414a-8367-9965355dbba6"
   },
   "source": [
    "## Missing Data\n",
    "\n",
    "Test your dataset for missing data and handle it as needed. Make notes in the form of code comments as to your thought process."
   ]
  },
  {
   "cell_type": "code",
   "execution_count": 3,
   "metadata": {
    "azdata_cell_guid": "e1dc66ef-e471-4c27-92e7-ee878c106eba"
   },
   "outputs": [
    {
     "name": "stdout",
     "output_type": "stream",
     "text": [
      "Unnamed: 0\n",
      "0\n",
      "id\n",
      "0\n",
      "kw_location\n",
      "0\n",
      "time_location\n",
      "0\n",
      "created_date\n",
      "0\n",
      "period\n",
      "0\n",
      "1\n",
      "0\n",
      "2\n",
      "0\n",
      "3\n",
      "0\n",
      "4\n",
      "0\n",
      "5\n",
      "0\n",
      "6\n",
      "0\n",
      "7\n",
      "0\n",
      "8\n",
      "0\n",
      "9\n",
      "0\n",
      "10\n",
      "0\n",
      "11\n",
      "0\n",
      "12\n",
      "0\n",
      "13\n",
      "0\n",
      "14\n",
      "0\n",
      "15\n",
      "0\n",
      "16\n",
      "0\n",
      "17\n",
      "0\n",
      "18\n",
      "0\n",
      "19\n",
      "0\n",
      "20\n",
      "0\n",
      "year\n",
      "0\n",
      "month\n",
      "0\n",
      "3\n",
      "735\n",
      "4\n",
      "833\n",
      "6\n",
      "840\n",
      "7\n",
      "868\n",
      "8\n",
      "665\n",
      "9\n",
      "833\n",
      "10\n",
      "210\n",
      "1\n",
      "434\n",
      "2\n",
      "392\n",
      "5\n",
      "238\n"
     ]
    }
   ],
   "source": [
    "#First I scan each column for Null data\n",
    "\n",
    "for i in df.columns:\n",
    "    print(i)\n",
    "    print(df[i].isnull().sum())\n",
    "\n",
    "#No nulls. I chose a dataset with a quality rating of 10 so this makes sense.\n",
    "\n",
    "#I should also now check the differences in every Month to see if one is severely lacking.\n",
    "for i in df['month'].unique():\n",
    "    print(i)\n",
    "    print(df[df['month'] == i]['id'].count())\n",
    "\n",
    "# It seems im lacking in October, January, February, and May. The lack of data however is not significant enough to cause errors. It is likely due to irregular sampling consistency, on part of the original dataset author."
   ]
  },
  {
   "cell_type": "markdown",
   "metadata": {
    "azdata_cell_guid": "1233f543-e9a0-4f78-96f5-d7536554102e"
   },
   "source": [
    "## Irregular Data\n",
    "\n",
    "Detect outliers in your dataset and handle them as needed. Use code comments to make notes about your thought process."
   ]
  },
  {
   "cell_type": "code",
   "execution_count": 4,
   "metadata": {
    "azdata_cell_guid": "efed50ae-16f0-471d-98e2-632553a74c12"
   },
   "outputs": [],
   "source": [
    "#The data that is being measured in this dataset is string values and their frequency and relation to other constants. As such it is impossible to have outliers."
   ]
  },
  {
   "cell_type": "markdown",
   "metadata": {
    "azdata_cell_guid": "6f5b8ee0-bab3-44bc-958a-67d1e4c0407f"
   },
   "source": [
    "## Unnecessary Data\n",
    "\n",
    "Look for the different types of unnecessary data in your dataset and address it as needed. Make sure to use code comments to illustrate your thought process."
   ]
  },
  {
   "cell_type": "code",
   "execution_count": 5,
   "metadata": {
    "azdata_cell_guid": "e788a239-2fbf-41de-9bd3-19e52e3b187c"
   },
   "outputs": [],
   "source": [
    "#Time to boot that time column\n",
    "df = df.drop('time_location', axis=1)"
   ]
  },
  {
   "cell_type": "markdown",
   "metadata": {
    "azdata_cell_guid": "53e0cf94-c68a-4fa0-9849-9505a66bcce6"
   },
   "source": [
    "## Inconsistent Data\n",
    "\n",
    "Check for inconsistent data and address any that arises. As always, use code comments to illustrate your thought process."
   ]
  },
  {
   "cell_type": "code",
   "execution_count": null,
   "metadata": {
    "azdata_cell_guid": "e9de6624-812a-43f8-8e20-93b4a49b091f"
   },
   "outputs": [],
   "source": [
    "#Sort of covered this with the missing data portion. Inconsistency will be noted in the Tableau."
   ]
  },
  {
   "cell_type": "markdown",
   "metadata": {
    "azdata_cell_guid": "dedc0bfe-17d0-40b2-914f-2ddb54f9ce0d"
   },
   "source": [
    "## Summarize Your Results\n",
    "\n",
    "Make note of your answers to the following questions.\n",
    "\n",
    "1. Did you find all four types of dirty data in your dataset?\n",
    "    3 of them yes. The data however contains no outliers, and cannot.\n",
    "\n",
    "2. Did the process of cleaning your data give you new insights into your dataset?\n",
    "    Yes, I now have an idea of which months are lacking in data, which I will keep in mind and note in the final report.\n",
    "\n",
    "3. Is there anything you would like to make note of when it comes to manipulating the data and making visualizations?\n",
    "    In my Tableau, it may be much cleaner to organize my numeral columns into a group, so that applying filters over the columns with string data is much less work."
   ]
  }
 ],
 "metadata": {
  "kernelspec": {
   "display_name": ".venv",
   "language": "python",
   "name": "python3"
  },
  "language_info": {
   "codemirror_mode": {
    "name": "ipython",
    "version": 3
   },
   "file_extension": ".py",
   "mimetype": "text/x-python",
   "name": "python",
   "nbconvert_exporter": "python",
   "pygments_lexer": "ipython3",
   "version": "3.11.9"
  }
 },
 "nbformat": 4,
 "nbformat_minor": 2
}
